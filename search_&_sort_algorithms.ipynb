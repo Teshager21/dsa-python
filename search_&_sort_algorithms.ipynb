{
  "nbformat": 4,
  "nbformat_minor": 0,
  "metadata": {
    "colab": {
      "provenance": [],
      "authorship_tag": "ABX9TyOemYNT7K6aZNSIY9nu2PNq",
      "include_colab_link": true
    },
    "kernelspec": {
      "name": "python3",
      "display_name": "Python 3"
    },
    "language_info": {
      "name": "python"
    }
  },
  "cells": [
    {
      "cell_type": "markdown",
      "metadata": {
        "id": "view-in-github",
        "colab_type": "text"
      },
      "source": [
        "<a href=\"https://colab.research.google.com/github/Teshager21/dsa-python/blob/main/search_%26_sort_algorithms.ipynb\" target=\"_parent\"><img src=\"https://colab.research.google.com/assets/colab-badge.svg\" alt=\"Open In Colab\"/></a>"
      ]
    },
    {
      "cell_type": "code",
      "source": [
        "def binary_search(list,value):\n",
        "    mid= int(len(list)/2)\n",
        "    while True:\n",
        "      if mid==int(mid/2):\n",
        "        print(f'{value} not found')\n",
        "        return\n",
        "      if list[mid]==value:\n",
        "        return mid\n",
        "      elif list[mid]<value:\n",
        "        mid=int((mid+len(list))/2)\n",
        "      else:\n",
        "        mid=int(mid/2)\n",
        "print(binary_search([1,2,3,4,5],5))\n",
        "print(binary_search([1,5,7,11,27],4))"
      ],
      "metadata": {
        "id": "dIh49MC9ushC"
      },
      "execution_count": null,
      "outputs": []
    },
    {
      "cell_type": "code",
      "source": [
        "def selection_sort(list):\n",
        "  sorted_list=[]\n",
        "  while len(list)>0:\n",
        "    min_value=min(list)\n",
        "    list.remove(min_value)\n",
        "    sorted_list.append(min_value)\n",
        "  return sorted_list\n",
        "# print(selection_sort([5,11,7,1,27]))\n",
        "\n",
        "def min_value(list,index):\n",
        "  new_list= list[index:len(list)]\n",
        "  minimum_val=min(new_list)\n",
        "  return list.index(minimum_val)\n",
        "\n",
        "def selection_sort_inplace(list):\n",
        "  list_len=len(list)\n",
        "  for i in range(list_len):\n",
        "    min_index=min_value(list,i)\n",
        "    # print('current min',list[min_index])\n",
        "    replace_value=list[i]\n",
        "    list[i]=list[min_index]\n",
        "    list[min_index]=replace_value\n",
        "    # print('swaped value',list[i],'in place of',replace_value,'\\n',list)\n",
        "  return list\n",
        "\n",
        "\n",
        "print(selection_sort_inplace([5,11,-7,1,27]))\n",
        "\n",
        ""
      ],
      "metadata": {
        "id": "FiZ0H6WD_UFa"
      },
      "execution_count": null,
      "outputs": []
    }
  ]
}
{
  "nbformat": 4,
  "nbformat_minor": 0,
  "metadata": {
    "colab": {
      "provenance": [],
      "authorship_tag": "ABX9TyN0euW/bVX7cQnfd6ZcgT5j",
      "include_colab_link": true
    },
    "kernelspec": {
      "name": "python3",
      "display_name": "Python 3"
    },
    "language_info": {
      "name": "python"
    }
  },
  "cells": [
    {
      "cell_type": "markdown",
      "metadata": {
        "id": "view-in-github",
        "colab_type": "text"
      },
      "source": [
        "<a href=\"https://colab.research.google.com/github/Teshager21/dsa-python/blob/main/search_%26_sort_algorithms.ipynb\" target=\"_parent\"><img src=\"https://colab.research.google.com/assets/colab-badge.svg\" alt=\"Open In Colab\"/></a>"
      ]
    },
    {
      "cell_type": "code",
      "source": [
        "def binary_search(list,value):\n",
        "    mid= int(len(list)/2)\n",
        "    while True:\n",
        "      if mid==int(mid/2):\n",
        "        print(f'{value} not found')\n",
        "        return\n",
        "      if list[mid]==value:\n",
        "        return mid\n",
        "      elif list[mid]<value:\n",
        "        mid=int((mid+len(list))/2)\n",
        "      else:\n",
        "        mid=int(mid/2)\n",
        "print(binary_search([1,2,3,4,5],5))\n",
        "print(binary_search([1,5,7,11,27],4))"
      ],
      "metadata": {
        "id": "dIh49MC9ushC"
      },
      "execution_count": null,
      "outputs": []
    },
    {
      "cell_type": "code",
      "source": [
        "def selection_sort(list):\n",
        "  sorted_list=[]\n",
        "  while len(list)>0:\n",
        "    min_value=min(list)\n",
        "    list.remove(min_value)\n",
        "    sorted_list.append(min_value)\n",
        "  return sorted_list\n",
        "# print(selection_sort([5,11,7,1,27]))\n",
        "\n",
        "def min_value(list,index):\n",
        "  new_list= list[index:len(list)]\n",
        "  minimum_val=min(new_list)\n",
        "  return list.index(minimum_val)\n",
        "\n",
        "def selection_sort_inplace(list):\n",
        "  list_len=len(list)\n",
        "  for i in range(list_len):\n",
        "    min_index=min_value(list,i)\n",
        "    replace_value=list[i]\n",
        "    list[i]=list[min_index]\n",
        "    list[min_index]=replace_value\n",
        "  return list\n",
        "\n",
        "\n",
        "print(selection_sort_inplace([5,11,-7,1,27]))\n",
        "\n"
      ],
      "metadata": {
        "id": "FiZ0H6WD_UFa",
        "outputId": "36b6d8ca-ace2-4f05-ab4e-d6eef13c6083",
        "colab": {
          "base_uri": "https://localhost:8080/"
        }
      },
      "execution_count": 1,
      "outputs": [
        {
          "output_type": "stream",
          "name": "stdout",
          "text": [
            "[-7, 1, 5, 11, 27]\n"
          ]
        }
      ]
    },
    {
      "cell_type": "code",
      "source": [
        "from os import truncate\n",
        "def bubble_sort(list):\n",
        "  while True:\n",
        "    swap=False\n",
        "    for i in range(len(list)-2):\n",
        "      if list[i]>list[i+1]:\n",
        "         replace_value=list[i]\n",
        "         list[i]=list[i+1]\n",
        "         list[i+1]=replace_value\n",
        "         swap=True\n",
        "    if swap==False:\n",
        "      return list\n",
        "print(bubble_sort([5,11,7,1,27]))\n",
        ""
      ],
      "metadata": {
        "id": "XWJB2_7FrGA-",
        "outputId": "45cd731d-ad42-4b4a-dc8b-1053b7e02649",
        "colab": {
          "base_uri": "https://localhost:8080/"
        }
      },
      "execution_count": 4,
      "outputs": [
        {
          "output_type": "stream",
          "name": "stdout",
          "text": [
            "[1, 5, 7, 11, 27]\n"
          ]
        }
      ]
    },
    {
      "cell_type": "code",
      "source": [
        "!git status\n"
      ],
      "metadata": {
        "id": "4ovSPROvrqEa",
        "outputId": "53b721fb-bad9-4904-d28c-ea042efd7530",
        "colab": {
          "base_uri": "https://localhost:8080/"
        }
      },
      "execution_count": 5,
      "outputs": [
        {
          "output_type": "stream",
          "name": "stdout",
          "text": [
            "fatal: not a git repository (or any of the parent directories): .git\n"
          ]
        }
      ]
    }
  ]
}